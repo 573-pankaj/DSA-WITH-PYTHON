{
 "cells": [
  {
   "cell_type": "markdown",
   "metadata": {},
   "source": [
    "# DATA STRUCTURE IN PYTHON"
   ]
  },
  {
   "cell_type": "raw",
   "metadata": {},
   "source": [
    "1.1 Data sturcture in python:\n",
    " operations on data Structure:\n",
    " 1.Create\n",
    " 2.Destroy\n",
    " 3.Selection\n",
    " 4.Update\n",
    " 5.Searching\n",
    " 6.Sorting\n",
    " 7.Mearging\n",
    " \n",
    "## Structures taht are used to organized data, because to decrease the time complexity."
   ]
  },
  {
   "cell_type": "code",
   "execution_count": null,
   "metadata": {},
   "outputs": [],
   "source": []
  },
  {
   "cell_type": "markdown",
   "metadata": {},
   "source": [
    "# 2.2 Stack Data Sturcture\n",
    "--> LIFO : Last in First Out\n",
    "operation : \n",
    "    1. Insert element : push()\n",
    "    2. Delete element : pop()"
   ]
  },
  {
   "cell_type": "code",
   "execution_count": 2,
   "metadata": {},
   "outputs": [
    {
     "name": "stdout",
     "output_type": "stream",
     "text": [
      "[3, 6, 8, 7]\n"
     ]
    }
   ],
   "source": [
    "# Build a Stack \n",
    "stack = [] # empty list\n",
    "# push element inside the stck\n",
    "stack.append(3)\n",
    "stack.append(6)\n",
    "stack.append(8)\n",
    "stack.append(7)\n",
    "print(stack)"
   ]
  },
  {
   "cell_type": "code",
   "execution_count": 3,
   "metadata": {},
   "outputs": [
    {
     "name": "stdout",
     "output_type": "stream",
     "text": [
      "[3, 6, 8]\n"
     ]
    }
   ],
   "source": [
    "# pop function to delente a element from a stack\n",
    "stack.pop()\n",
    "print(stack)"
   ]
  },
  {
   "cell_type": "code",
   "execution_count": null,
   "metadata": {},
   "outputs": [],
   "source": []
  },
  {
   "cell_type": "markdown",
   "metadata": {},
   "source": [
    "# [3.0] Linked List introduction\n",
    "  // Array : stores data in contineous manner \\\n",
    "   Linked list : can store data in non contiguiuse manner\n",
    "   1. Singly linled list\n",
    "   2. Doubly Linked List\n",
    "   3. Cricular Linked List \\\n",
    "   \n",
    "head : pointer"
   ]
  },
  {
   "cell_type": "code",
   "execution_count": 17,
   "metadata": {},
   "outputs": [],
   "source": [
    "import pandas as pd\n",
    "import numpy as np\n",
    "arr = np.array([[1,2,3,4,5],\n",
    "               [1,2,3,4,5]],\n",
    "              )"
   ]
  },
  {
   "cell_type": "code",
   "execution_count": 18,
   "metadata": {},
   "outputs": [
    {
     "name": "stdout",
     "output_type": "stream",
     "text": [
      "<class 'numpy.ndarray'>\n",
      "[[1 2 3 4 5]\n",
      " [1 2 3 4 5]]\n",
      "(2, 5)\n"
     ]
    }
   ],
   "source": [
    "print(type(arr))\n",
    "\n",
    "print(arr)\n",
    "print(arr.shape)"
   ]
  },
  {
   "cell_type": "markdown",
   "metadata": {},
   "source": [
    "# [ 3.1 ] Create Node and Linked List Class1"
   ]
  },
  {
   "cell_type": "code",
   "execution_count": 21,
   "metadata": {},
   "outputs": [],
   "source": [
    "# step 1 :  Allocate dta item in memorey // create a node calss here\n",
    "class NODE:\n",
    "        def __init__(self,data):\n",
    "            self.item = data\n",
    "            self.ref = None    ##  5 -> NULL\n",
    "# step 2 : Create a Linked List Class\n",
    "class LinkedList :\n",
    "    def __init__(self):\n",
    "        self.head= None   ## head -> NULL                 ## LL emplty initially\n",
    "                                          ## 1) assign reference of head to the new_node \n",
    "                                          ## 2) ssign head node to the new node\n",
    "    def insert_at_start(self,data):  # 5\n",
    "        new_node = NODE(data)                  # allocate in the main memmory\n",
    "        new_node.ref = self.head  ## head -> 5 -> Null\n",
    "        self.head = new_node\n",
    "        \n",
    "        \n",
    "        \n",
    "        \n",
    "\n",
    "# step 3 : Create a object of the Linkded List\n",
    "\n",
    "new_ll = LinkedList()   # object of the node class from where  we can pass the data\n",
    "new_ll.insert_at_start(5)\n",
    "new_ll.insert_at_start(4)\n",
    "new_ll.insert_at_start(3)\n",
    "new_ll.insert_at_start(7)\n",
    "\n",
    "# steap 4 : Insert a element in the last of the linked list\n",
    "        "
   ]
  },
  {
   "cell_type": "markdown",
   "metadata": {},
   "source": [
    "# TRAVERAL of the Linked List"
   ]
  },
  {
   "cell_type": "code",
   "execution_count": 37,
   "metadata": {},
   "outputs": [
    {
     "name": "stdout",
     "output_type": "stream",
     "text": [
      "3  \n",
      "4  \n",
      "5  \n"
     ]
    }
   ],
   "source": [
    "# step 1 :  Allocate dta item in memorey // create a node calss here\n",
    "class NODE:\n",
    "        def __init__(self,data):\n",
    "            self.item = data\n",
    "            self.ref = None # used for point the reference   \n",
    "class LinkedList :\n",
    "    def __init__(self):\n",
    "        self.head= None             \n",
    "    def insert_at_start(self,data): \n",
    "        new_node = NODE(data)                \n",
    "        new_node.ref = self.head \n",
    "        self.head = new_node\n",
    "        \n",
    "    \n",
    "    ##  Linked List Traversal\n",
    "    def traversal(self):\n",
    "        if self.head is None:\n",
    "            print(\"Linked List is empty !!\")\n",
    "            return\n",
    "        else:\n",
    "            temp = self.head       # temp is the pointer here // which store the addres-\n",
    "            while temp is not None:\n",
    "                print(temp.item,\" \")\n",
    "                temp = temp.ref\n",
    "                \n",
    "    def delete(self,d_node):\n",
    "        temp = self.head\n",
    "        if self.head.item == d_node:\n",
    "            self.head = self.head.ref\n",
    "            return\n",
    "        while temp is not None:\n",
    "            if temp.ref.item == d_node:\n",
    "                break\n",
    "            temp = temp.ref\n",
    "        # Update reference\n",
    "        if temp.ref is None:\n",
    "            print(\"Item is not found\")\n",
    "        else:\n",
    "            temp.ref = temp.ref.ref\n",
    "        \n",
    "        \n",
    "\n",
    "\n",
    "new_ll = LinkedList()  \n",
    "new_ll.insert_at_start(5)\n",
    "new_ll.insert_at_start(4)\n",
    "new_ll.insert_at_start(3)\n",
    "new_ll.insert_at_start(7)\n",
    "\n",
    "new_ll.delete(7)\n",
    "\n",
    "new_ll.traversal()\n"
   ]
  },
  {
   "cell_type": "markdown",
   "metadata": {},
   "source": [
    "# DELETION in LINKED LIST"
   ]
  },
  {
   "cell_type": "code",
   "execution_count": null,
   "metadata": {},
   "outputs": [],
   "source": []
  },
  {
   "cell_type": "code",
   "execution_count": null,
   "metadata": {},
   "outputs": [],
   "source": []
  },
  {
   "cell_type": "code",
   "execution_count": null,
   "metadata": {},
   "outputs": [],
   "source": []
  },
  {
   "cell_type": "code",
   "execution_count": null,
   "metadata": {},
   "outputs": [],
   "source": []
  },
  {
   "cell_type": "code",
   "execution_count": null,
   "metadata": {},
   "outputs": [],
   "source": []
  },
  {
   "cell_type": "code",
   "execution_count": null,
   "metadata": {},
   "outputs": [],
   "source": []
  },
  {
   "cell_type": "code",
   "execution_count": null,
   "metadata": {},
   "outputs": [],
   "source": []
  },
  {
   "cell_type": "code",
   "execution_count": null,
   "metadata": {},
   "outputs": [],
   "source": []
  },
  {
   "cell_type": "code",
   "execution_count": null,
   "metadata": {},
   "outputs": [],
   "source": []
  },
  {
   "cell_type": "code",
   "execution_count": null,
   "metadata": {},
   "outputs": [],
   "source": []
  },
  {
   "cell_type": "code",
   "execution_count": null,
   "metadata": {},
   "outputs": [],
   "source": []
  },
  {
   "cell_type": "code",
   "execution_count": null,
   "metadata": {},
   "outputs": [],
   "source": []
  },
  {
   "cell_type": "code",
   "execution_count": null,
   "metadata": {},
   "outputs": [],
   "source": []
  },
  {
   "cell_type": "code",
   "execution_count": null,
   "metadata": {},
   "outputs": [],
   "source": []
  }
 ],
 "metadata": {
  "kernelspec": {
   "display_name": "Python 3",
   "language": "python",
   "name": "python3"
  },
  "language_info": {
   "codemirror_mode": {
    "name": "ipython",
    "version": 3
   },
   "file_extension": ".py",
   "mimetype": "text/x-python",
   "name": "python",
   "nbconvert_exporter": "python",
   "pygments_lexer": "ipython3",
   "version": "3.7.7"
  }
 },
 "nbformat": 4,
 "nbformat_minor": 4
}
